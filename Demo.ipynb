{
 "cells": [
  {
   "cell_type": "markdown",
   "id": "1307ab64",
   "metadata": {},
   "source": [
    "# Coding A Rank Order Assignment Algorithm\n",
    "\n",
    "The goal of the project was to write a piece of software to matches N Doctors with K Hospitals with open residency positions. Each Doctor provides a ranked list of their preference for Hospitals, without Hospitals ranking the Doctors."
   ]
  },
  {
   "cell_type": "markdown",
   "id": "a70f4b09",
   "metadata": {},
   "source": [
    "### Section 1: Background\n",
    "Blabla Hungarian Algorithm.  PUT ACTUAL STUFF HERE once we finish README.md\n",
    "\n",
    "For a more in depth look at the Hungarian Algorithm, you can reference <a href=\"https://www.topcoder.com/thrive/articles/Assignment%20Problem%20and%20Hungarian%20Algorithm\" target=\"_parent\"> this article on topcoder.com."
   ]
  },
  {
   "cell_type": "markdown",
   "id": "973e888b",
   "metadata": {},
   "source": [
    "### Section 2: The Data\n",
    "\n",
    "We assume our data has been collected into a spreadsheet (a CSV file) and organized so that each doctor has their own row, which is itself populated with preference rankings [1, K] for each hospital in it's corresponding column.  \n",
    "\n",
    "We load this in as a **PANDAS** dataframe."
   ]
  },
  {
   "cell_type": "code",
   "execution_count": 2,
   "id": "e87f689f",
   "metadata": {},
   "outputs": [
    {
     "name": "stdout",
     "output_type": "stream",
     "text": [
      "  Hospital  H1  H2  H3\n",
      "0      Num   2   2   1\n",
      "1       D1   1   2   3\n",
      "2       D2   2   1   3\n",
      "3       D3   3   2   1\n",
      "4       D4   1   3   2\n"
     ]
    }
   ],
   "source": [
    "import HungarianAlgoImportData as HAID\n",
    "\n",
    "df = HAID.import_data('BDD Test.csv')\n",
    "print(df)"
   ]
  },
  {
   "cell_type": "markdown",
   "id": "da20bc0e",
   "metadata": {},
   "source": [
    "From this dataframe, we extract the details provided for each hospital and strip the dataframe of its row and column labels to allow us to work with just the cost matrix. "
   ]
  },
  {
   "cell_type": "code",
   "execution_count": 7,
   "id": "ec8a1cab",
   "metadata": {},
   "outputs": [
    {
     "name": "stdout",
     "output_type": "stream",
     "text": [
      "get_hospital_info returns the number of positions available per hospital\n",
      "   Hospital  H1  H2  H3\n",
      "0      Num   2   2   1\n",
      "At the end of the importing process we are left with the 2D array:\n",
      " [[1 2 3 1]\n",
      " [2 1 3 2]\n",
      " [3 2 1 3]\n",
      " [1 3 2 1]]\n"
     ]
    }
   ],
   "source": [
    "hi = HAID.get_hospital_info(df)\n",
    "\n",
    "prepped_df = HAID.prep_data(df)\n",
    "prepped_array = prepped_df.to_numpy(copy = True)\n",
    "\n",
    "print(f'get_hospital_info returns the number of positions available per hospital\\n {hi}')\n",
    "print(f'At the end of the importing process we are left with the 2D array:\\n {prepped_array}')"
   ]
  },
  {
   "cell_type": "markdown",
   "id": "1fe98913",
   "metadata": {},
   "source": [
    "### Section 3: Reduce the Matrix\n",
    "\n",
    "With our cost matrix created we then begin the steps of the Hungarian Algorithm.  \n",
    "\n",
    "As previously explained, the first step is to reduce the matrix by subtracting te minimum value of each row from each row and repeating that for each column. "
   ]
  },
  {
   "cell_type": "code",
   "execution_count": 10,
   "id": "2207df88",
   "metadata": {},
   "outputs": [
    {
     "name": "stdout",
     "output_type": "stream",
     "text": [
      "Our original cost matrix was:\n",
      " [[1 2 3 1]\n",
      " [2 1 3 2]\n",
      " [3 2 1 3]\n",
      " [1 3 2 1]]\n",
      "\n",
      " and following our row reduction we are given:\n",
      " [[0. 1. 2. 0.]\n",
      " [1. 0. 2. 1.]\n",
      " [2. 1. 0. 2.]\n",
      " [0. 2. 1. 0.]]\n",
      "\n",
      "After column reduction, we obtain our final reduced matrix:\n",
      " [[0. 1. 2. 0.]\n",
      " [1. 0. 2. 1.]\n",
      " [2. 1. 0. 2.]\n",
      " [0. 2. 1. 0.]]\n"
     ]
    }
   ],
   "source": [
    "import Hungarian_Alg_Steps as HAS\n",
    "\n",
    "row_reduced_matrix = HAS.step1_row_reduction(prepped_array)\n",
    "print(f'Our original cost matrix was:\\n {prepped_array}\\n\\n and following our row reduction we are given:\\n {row_reduced_matrix}')\n",
    "\n",
    "reduced_matrix = HAS.step2_col_reduction(row_reduced_matrix)\n",
    "print(f'\\nAfter column reduction, we obtain our final reduced matrix:\\n {reduced_matrix}')"
   ]
  },
  {
   "cell_type": "markdown",
   "id": "2f9a42fc",
   "metadata": {},
   "source": [
    "### Section 4: Crossing Out the Zeros\n",
    "\n",
    "I don't feel like explaining this right now.  I'll come back to it tomorrow or smth"
   ]
  },
  {
   "cell_type": "code",
   "execution_count": null,
   "id": "127e0dcb",
   "metadata": {},
   "outputs": [],
   "source": []
  }
 ],
 "metadata": {
  "kernelspec": {
   "display_name": ".conda",
   "language": "python",
   "name": "python3"
  },
  "language_info": {
   "codemirror_mode": {
    "name": "ipython",
    "version": 3
   },
   "file_extension": ".py",
   "mimetype": "text/x-python",
   "name": "python",
   "nbconvert_exporter": "python",
   "pygments_lexer": "ipython3",
   "version": "3.10.4"
  }
 },
 "nbformat": 4,
 "nbformat_minor": 5
}
