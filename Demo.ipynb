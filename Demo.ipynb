{
 "cells": [
  {
   "cell_type": "markdown",
   "id": "1307ab64",
   "metadata": {},
   "source": [
    "# Coding A Rank Order Assignment Algorithm\n",
    "\n",
    "The goal of the project was to write a piece of software to matches N Doctors with K Hospitals with open residency positions. Each Doctor provides a ranked list of their preference for Hospitals, without Hospitals ranking the Doctors."
   ]
  },
  {
   "cell_type": "markdown",
   "id": "a70f4b09",
   "metadata": {},
   "source": [
    "### Section 1: Background\n",
    "Blabla Hungarian Algorithm.  PUT ACTUAL STUFF HERE once we finish README.md\n",
    "\n",
    "For a more in depth look at the Hungarian Algorithm, you can reference <a href=\"https://www.topcoder.com/thrive/articles/Assignment%20Problem%20and%20Hungarian%20Algorithm\" target=\"_parent\"> this article on topcoder.com."
   ]
  },
  {
   "cell_type": "markdown",
   "id": "973e888b",
   "metadata": {},
   "source": [
    "### Section 2: The Data\n",
    "\n",
    "We assume our data has been collected into a spreadsheet (a CSV file) and organized so that each doctor has their own row, which is itself populated with preference rankings [1, K] for each hospital in it's corresponding column.  \n",
    "\n",
    "We load this in as a **PANDAS** dataframe."
   ]
  },
  {
   "cell_type": "code",
   "execution_count": 1,
   "id": "47c63da1",
   "metadata": {},
   "outputs": [],
   "source": [
    "import Hungarian_Alg_Steps as HAS\n",
    "import Hungarian_Alg_LineCheck as HAL\n",
    "import HungarianAlgoImportData as HAID\n",
    "\n",
    "import numpy as np\n",
    "import pandas as pd"
   ]
  },
  {
   "cell_type": "code",
   "execution_count": 2,
   "id": "e87f689f",
   "metadata": {},
   "outputs": [
    {
     "name": "stdout",
     "output_type": "stream",
     "text": [
      "  Hospital  H1  H2  H3  H4  H5  H6  H7\n",
      "0      Num   3   2   1   2   4   3   1\n",
      "1       D1   1  34  45  14  67  56  89\n",
      "2       D2  29  83  72  63  23  19  14\n",
      "3       D3  41  67  15  36  49  84  55\n",
      "4       D4  53  19  97  22  78  80  11\n",
      "5       D5  88  25  46  10  35  50  99\n"
     ]
    }
   ],
   "source": [
    "df = HAID.import_data('Large_Test.csv')\n",
    "print(df)"
   ]
  },
  {
   "cell_type": "markdown",
   "id": "da20bc0e",
   "metadata": {},
   "source": [
    "From this dataframe, we extract the details provided for each hospital and strip the dataframe of its row and column labels to allow us to work with just the cost matrix. "
   ]
  },
  {
   "cell_type": "code",
   "execution_count": 12,
   "id": "ec8a1cab",
   "metadata": {},
   "outputs": [
    {
     "name": "stdout",
     "output_type": "stream",
     "text": [
      "get_hospital_info returns the number of positions available per hospital\n",
      "\n",
      "    H1  H2  H3  H4  H5  H6  H7\n",
      "0   3   2   1   2   4   3   1\n",
      "\n",
      "And we use this information to fill out the matrix, which then gets padded to become square\n",
      "\n",
      "     H1A  H2A  H3  H4A  H5A  H6A  H7  H1B  H1C  H2B  H4B  H5B  H5C  H5D  H6B  \\\n",
      "0     1   34  45   14   67   56  89    1    1   34   14   67   67   67   56   \n",
      "1    29   83  72   63   23   19  14   29   29   83   63   23   23   23   19   \n",
      "2    41   67  15   36   49   84  55   41   41   67   36   49   49   49   84   \n",
      "3    53   19  97   22   78   80  11   53   53   19   22   78   78   78   80   \n",
      "4    88   25  46   10   35   50  99   88   88   25   10   35   35   35   50   \n",
      "5     0    0   0    0    0    0   0    0    0    0    0    0    0    0    0   \n",
      "6     0    0   0    0    0    0   0    0    0    0    0    0    0    0    0   \n",
      "7     0    0   0    0    0    0   0    0    0    0    0    0    0    0    0   \n",
      "8     0    0   0    0    0    0   0    0    0    0    0    0    0    0    0   \n",
      "9     0    0   0    0    0    0   0    0    0    0    0    0    0    0    0   \n",
      "10    0    0   0    0    0    0   0    0    0    0    0    0    0    0    0   \n",
      "11    0    0   0    0    0    0   0    0    0    0    0    0    0    0    0   \n",
      "12    0    0   0    0    0    0   0    0    0    0    0    0    0    0    0   \n",
      "13    0    0   0    0    0    0   0    0    0    0    0    0    0    0    0   \n",
      "14    0    0   0    0    0    0   0    0    0    0    0    0    0    0    0   \n",
      "15    0    0   0    0    0    0   0    0    0    0    0    0    0    0    0   \n",
      "\n",
      "    H6C  \n",
      "0    56  \n",
      "1    19  \n",
      "2    84  \n",
      "3    80  \n",
      "4    50  \n",
      "5     0  \n",
      "6     0  \n",
      "7     0  \n",
      "8     0  \n",
      "9     0  \n",
      "10    0  \n",
      "11    0  \n",
      "12    0  \n",
      "13    0  \n",
      "14    0  \n",
      "15    0  \n",
      "\n",
      "At the end of the importing process we are left with the 2D array:\n",
      "\n",
      " [[ 1 34 45 14 67 56 89  1  1 34 14 67 67 67 56 56]\n",
      " [29 83 72 63 23 19 14 29 29 83 63 23 23 23 19 19]\n",
      " [41 67 15 36 49 84 55 41 41 67 36 49 49 49 84 84]\n",
      " [53 19 97 22 78 80 11 53 53 19 22 78 78 78 80 80]\n",
      " [88 25 46 10 35 50 99 88 88 25 10 35 35 35 50 50]\n",
      " [ 0  0  0  0  0  0  0  0  0  0  0  0  0  0  0  0]\n",
      " [ 0  0  0  0  0  0  0  0  0  0  0  0  0  0  0  0]\n",
      " [ 0  0  0  0  0  0  0  0  0  0  0  0  0  0  0  0]\n",
      " [ 0  0  0  0  0  0  0  0  0  0  0  0  0  0  0  0]\n",
      " [ 0  0  0  0  0  0  0  0  0  0  0  0  0  0  0  0]\n",
      " [ 0  0  0  0  0  0  0  0  0  0  0  0  0  0  0  0]\n",
      " [ 0  0  0  0  0  0  0  0  0  0  0  0  0  0  0  0]\n",
      " [ 0  0  0  0  0  0  0  0  0  0  0  0  0  0  0  0]\n",
      " [ 0  0  0  0  0  0  0  0  0  0  0  0  0  0  0  0]\n",
      " [ 0  0  0  0  0  0  0  0  0  0  0  0  0  0  0  0]\n",
      " [ 0  0  0  0  0  0  0  0  0  0  0  0  0  0  0  0]]\n"
     ]
    }
   ],
   "source": [
    "hi = HAID.get_hospital_info(df)\n",
    "\n",
    "prepped_df = HAID.prep_data(df)\n",
    "prepped_array = prepped_df.to_numpy(copy = True)\n",
    "\n",
    "print(f'get_hospital_info returns the number of positions available per hospital\\n\\n {hi}')\n",
    "print(f'\\nAnd we use this information to fill out the matrix, which then gets padded to become square\\n\\n {prepped_df}')\n",
    "print(f'\\nAt the end of the importing process we are left with the 2D array:\\n\\n {prepped_array}')"
   ]
  },
  {
   "cell_type": "markdown",
   "id": "1fe98913",
   "metadata": {},
   "source": [
    "### Section 3: Reduce the Matrix\n",
    "\n",
    "With our cost matrix created we then begin the steps of the Hungarian Algorithm.  \n",
    "\n",
    "As previously explained, the first step is to reduce the matrix by subtracting the minimum value of each row from each row and repeating that for each column. "
   ]
  },
  {
   "cell_type": "code",
   "execution_count": 14,
   "id": "2207df88",
   "metadata": {},
   "outputs": [
    {
     "name": "stdout",
     "output_type": "stream",
     "text": [
      "Our original cost matrix was:\n",
      " [[ 1 34 45 14 67 56 89  1  1 34 14 67 67 67 56 56]\n",
      " [29 83 72 63 23 19 14 29 29 83 63 23 23 23 19 19]\n",
      " [41 67 15 36 49 84 55 41 41 67 36 49 49 49 84 84]\n",
      " [53 19 97 22 78 80 11 53 53 19 22 78 78 78 80 80]\n",
      " [88 25 46 10 35 50 99 88 88 25 10 35 35 35 50 50]\n",
      " [ 0  0  0  0  0  0  0  0  0  0  0  0  0  0  0  0]\n",
      " [ 0  0  0  0  0  0  0  0  0  0  0  0  0  0  0  0]\n",
      " [ 0  0  0  0  0  0  0  0  0  0  0  0  0  0  0  0]\n",
      " [ 0  0  0  0  0  0  0  0  0  0  0  0  0  0  0  0]\n",
      " [ 0  0  0  0  0  0  0  0  0  0  0  0  0  0  0  0]\n",
      " [ 0  0  0  0  0  0  0  0  0  0  0  0  0  0  0  0]\n",
      " [ 0  0  0  0  0  0  0  0  0  0  0  0  0  0  0  0]\n",
      " [ 0  0  0  0  0  0  0  0  0  0  0  0  0  0  0  0]\n",
      " [ 0  0  0  0  0  0  0  0  0  0  0  0  0  0  0  0]\n",
      " [ 0  0  0  0  0  0  0  0  0  0  0  0  0  0  0  0]\n",
      " [ 0  0  0  0  0  0  0  0  0  0  0  0  0  0  0  0]]\n",
      "\n",
      " and following our row reduction we are given:\n",
      " [[ 0. 33. 44. 13. 66. 55. 88.  0.  0. 33. 13. 66. 66. 66. 55. 55.]\n",
      " [15. 69. 58. 49.  9.  5.  0. 15. 15. 69. 49.  9.  9.  9.  5.  5.]\n",
      " [26. 52.  0. 21. 34. 69. 40. 26. 26. 52. 21. 34. 34. 34. 69. 69.]\n",
      " [42.  8. 86. 11. 67. 69.  0. 42. 42.  8. 11. 67. 67. 67. 69. 69.]\n",
      " [78. 15. 36.  0. 25. 40. 89. 78. 78. 15.  0. 25. 25. 25. 40. 40.]\n",
      " [ 0.  0.  0.  0.  0.  0.  0.  0.  0.  0.  0.  0.  0.  0.  0.  0.]\n",
      " [ 0.  0.  0.  0.  0.  0.  0.  0.  0.  0.  0.  0.  0.  0.  0.  0.]\n",
      " [ 0.  0.  0.  0.  0.  0.  0.  0.  0.  0.  0.  0.  0.  0.  0.  0.]\n",
      " [ 0.  0.  0.  0.  0.  0.  0.  0.  0.  0.  0.  0.  0.  0.  0.  0.]\n",
      " [ 0.  0.  0.  0.  0.  0.  0.  0.  0.  0.  0.  0.  0.  0.  0.  0.]\n",
      " [ 0.  0.  0.  0.  0.  0.  0.  0.  0.  0.  0.  0.  0.  0.  0.  0.]\n",
      " [ 0.  0.  0.  0.  0.  0.  0.  0.  0.  0.  0.  0.  0.  0.  0.  0.]\n",
      " [ 0.  0.  0.  0.  0.  0.  0.  0.  0.  0.  0.  0.  0.  0.  0.  0.]\n",
      " [ 0.  0.  0.  0.  0.  0.  0.  0.  0.  0.  0.  0.  0.  0.  0.  0.]\n",
      " [ 0.  0.  0.  0.  0.  0.  0.  0.  0.  0.  0.  0.  0.  0.  0.  0.]\n",
      " [ 0.  0.  0.  0.  0.  0.  0.  0.  0.  0.  0.  0.  0.  0.  0.  0.]]\n",
      "\n",
      "After column reduction, we obtain our final reduced matrix:\n",
      " [[ 0. 33. 44. 13. 66. 55. 88.  0.  0. 33. 13. 66. 66. 66. 55. 55.]\n",
      " [15. 69. 58. 49.  9.  5.  0. 15. 15. 69. 49.  9.  9.  9.  5.  5.]\n",
      " [26. 52.  0. 21. 34. 69. 40. 26. 26. 52. 21. 34. 34. 34. 69. 69.]\n",
      " [42.  8. 86. 11. 67. 69.  0. 42. 42.  8. 11. 67. 67. 67. 69. 69.]\n",
      " [78. 15. 36.  0. 25. 40. 89. 78. 78. 15.  0. 25. 25. 25. 40. 40.]\n",
      " [ 0.  0.  0.  0.  0.  0.  0.  0.  0.  0.  0.  0.  0.  0.  0.  0.]\n",
      " [ 0.  0.  0.  0.  0.  0.  0.  0.  0.  0.  0.  0.  0.  0.  0.  0.]\n",
      " [ 0.  0.  0.  0.  0.  0.  0.  0.  0.  0.  0.  0.  0.  0.  0.  0.]\n",
      " [ 0.  0.  0.  0.  0.  0.  0.  0.  0.  0.  0.  0.  0.  0.  0.  0.]\n",
      " [ 0.  0.  0.  0.  0.  0.  0.  0.  0.  0.  0.  0.  0.  0.  0.  0.]\n",
      " [ 0.  0.  0.  0.  0.  0.  0.  0.  0.  0.  0.  0.  0.  0.  0.  0.]\n",
      " [ 0.  0.  0.  0.  0.  0.  0.  0.  0.  0.  0.  0.  0.  0.  0.  0.]\n",
      " [ 0.  0.  0.  0.  0.  0.  0.  0.  0.  0.  0.  0.  0.  0.  0.  0.]\n",
      " [ 0.  0.  0.  0.  0.  0.  0.  0.  0.  0.  0.  0.  0.  0.  0.  0.]\n",
      " [ 0.  0.  0.  0.  0.  0.  0.  0.  0.  0.  0.  0.  0.  0.  0.  0.]\n",
      " [ 0.  0.  0.  0.  0.  0.  0.  0.  0.  0.  0.  0.  0.  0.  0.  0.]]\n"
     ]
    }
   ],
   "source": [
    "row_reduced_matrix = HAS.step1_row_reduction(prepped_array)\n",
    "print(f'Our original cost matrix was:\\n {prepped_array}\\n\\n and following our row reduction we are given:\\n {row_reduced_matrix}')\n",
    "\n",
    "reduced_matrix = HAS.step2_col_reduction(row_reduced_matrix)\n",
    "print(f'\\nAfter column reduction, we obtain our final reduced matrix:\\n {reduced_matrix}')\n",
    "\n"
   ]
  },
  {
   "cell_type": "markdown",
   "id": "2f9a42fc",
   "metadata": {},
   "source": [
    "### Section 4: Crossing Out the Zeros\n",
    "\n",
    "With the matrix both row and column reduced, we proceed to the process of \"crossing out zeros\" with the minimal number of lines.\n",
    "\n",
    "Unfortunately, we are unaware of a python function that draws lines in a numpy array.  So, we turn to matrix manipulations.\n",
    "\n"
   ]
  },
  {
   "cell_type": "markdown",
   "id": "e3d66fe5",
   "metadata": {},
   "source": [
    "*To begin, we pass the numpy array through and convert it into a boolean array where values indicate whether the entry is 0 (True) or not (False).\n",
    "A copy of this array is passed to a helper that fills in a first set of zeros simply by picking the first occurence in each row.\n",
    "The coordinates that we get back are then separated by row into row and column.*"
   ]
  },
  {
   "cell_type": "markdown",
   "id": "99b0921f",
   "metadata": {},
   "source": [
    "*We then sift through the boolean matrix column by column in order to iteratively obtain the minimal horizontal and vertical \"lines\" needed.*\n"
   ]
  },
  {
   "cell_type": "code",
   "execution_count": 15,
   "id": "127e0dcb",
   "metadata": {},
   "outputs": [
    {
     "name": "stdout",
     "output_type": "stream",
     "text": [
      "This step returns the rows and columns that have lines crossing through them:\n",
      "Rows: [ 0  2  4  5  6  7  8  9 10 11 12 13 14 15]\n",
      "Columns: [6]\n",
      "Marked Zeros:\n",
      " [[ 1  6]\n",
      " [ 2  2]\n",
      " [ 4  3]\n",
      " [ 0  0]\n",
      " [ 5  1]\n",
      " [ 6  4]\n",
      " [ 7  5]\n",
      " [ 8  7]\n",
      " [ 9  8]\n",
      " [10  9]\n",
      " [11 10]\n",
      " [12 11]\n",
      " [13 12]\n",
      " [14 13]\n",
      " [15 14]]\n",
      "\n",
      "And by finding the length of the line arrays and summing them, we can determine whether we move on to step 4 or 5\n",
      "Row lines(14) + Column lines(1) = 15.\n",
      "\n",
      "We have to do Step 4!\n"
     ]
    }
   ],
   "source": [
    "row_lines, col_lines, marked_zeros = HAL.Step_3_Line_Check(reduced_matrix)\n",
    "\n",
    "print(f'This step returns the rows and columns that have lines crossing through them:')\n",
    "print(f'Rows: {row_lines}')\n",
    "print(f'Columns: {col_lines}')\n",
    "print(f'Marked Zeros:\\n {marked_zeros}')\n",
    "print('\\nAnd by finding the length of the line arrays and summing them, we can determine whether we move on to step 4 or 5')\n",
    "print(f'Row lines({len(row_lines)}) + Column lines({len(col_lines)}) = {len(row_lines) + len(col_lines)}.')\n",
    "\n",
    "if len(row_lines) + len(col_lines) == len(reduced_matrix):\n",
    "    print(\"\\nWe're moving to Step 5!!\")\n",
    "    fork = 5\n",
    "else:\n",
    "    print(\"\\nWe have to do Step 4!\")\n",
    "    fork = 4"
   ]
  },
  {
   "cell_type": "markdown",
   "id": "b4a94fb6",
   "metadata": {},
   "source": [
    "### Section 5: Adjusting the Matrix\n",
    "\n",
    "If we fail to transform the matrix such that an optimal assignment can be obtained, we need to move to uncover new zeros.\n",
    "\n",
    "The process works by identifying uncovered cells (those not included in any row or column covered by a line) and modifying their values relative to the smallest uncovered entry. The goal is to create new zeros in the uncovered region and preserve the zeros we already have. Let’s go through this process step by step.\n",
    "\n",
    "We **first** determine entries that are *not* covered by any of the drawn lines.  Then we select the smallest of these values, called here m.\n",
    "\n",
    "\"m\" is then *subtracted from all uncovered entries* and *added to intersection entries* (intersection entries are entries at the intersection of a row and column line from Step 3).\n",
    "\n",
    "STEP4 then returns the updated cost matrix which gets passed back to STEP3 until we have N lines."
   ]
  },
  {
   "cell_type": "code",
   "execution_count": 16,
   "id": "d14d2b95",
   "metadata": {},
   "outputs": [
    {
     "name": "stdout",
     "output_type": "stream",
     "text": [
      "First we have (15, 16)\n",
      "Then we move on to Step5 because we have (16, 16)\n"
     ]
    }
   ],
   "source": [
    "if fork == 4:\n",
    "    while len(row_lines) + len(col_lines) != len(reduced_matrix):\n",
    "        print(f'First we have {len(row_lines) + len(col_lines), len(reduced_matrix)}')\n",
    "        reduced_matrix = HAS.step4_adjust_matrix(reduced_matrix, row_lines, col_lines)\n",
    "        row_lines, col_lines, marked_zeros = HAL.Step_3_Line_Check(reduced_matrix)\n",
    "\n",
    "print(f'Then we move on to Step5 because we have {len(row_lines) + len(col_lines), len(reduced_matrix)}')"
   ]
  },
  {
   "cell_type": "markdown",
   "id": "0ce3ce9e",
   "metadata": {},
   "source": [
    "### Section 6: Finding the Optimal Assignments\n",
    "\n",
    "Once we have reduced the cost matrix and identified the zeros, the next step involves assigning rows to columns. This process, implemented in the function STEP5_find_solution, seeks to assign each row to a unique column while ensuring only 1:1 matching and, hopefully, efficiency.\n",
    "\n",
    "To ensure we get our optimal assignments efficiently, the function does 2 passes.  The first pass goes ahead with directly matching any doctor that only has 1 candidate for assignment (i.e. we fully process rows with only 0).\n",
    "\n",
    "The second (and beyond) passes take care of matching candidates with the next lowest number of options.  Repeating this until we have no more unmatched candidates (though if the matrix was padded, they may, in reality, be unmatched)."
   ]
  },
  {
   "cell_type": "markdown",
   "id": "b9238ec6",
   "metadata": {},
   "source": [
    "This gives us our final result."
   ]
  },
  {
   "cell_type": "code",
   "execution_count": null,
   "id": "e4c97938",
   "metadata": {},
   "outputs": [
    {
     "name": "stdout",
     "output_type": "stream",
     "text": [
      "  Doctor Hospital Position\n",
      "3     D1               H1A\n",
      "4     D2               H6A\n",
      "0     D3                H3\n",
      "1     D4                H7\n",
      "2     D5               H4A\n",
      "\n",
      "We have achieved a solution of: 87.6%\n"
     ]
    }
   ],
   "source": [
    "assignments = HAL.STEP5_find_solution(marked_zeros)\n",
    "num_to_match = len(HAID.get_doctors(df))\n",
    "matches_df = HAL.match_residents(assignments, df)\n",
    "matches_df = matches_df.sort_values(\"Doctor\")\n",
    "matches_numeric = HAL.match_residents_numeric(assignments, prepped_df, num_to_match)\n",
    "score, max_score = HAID.get_score(prepped_df, matches_numeric)\n",
    "print(matches_df)\n",
    "print(f'\\nWe have achieved a solution of: {(1 - score / max_score) * 100:.1f}%')"
   ]
  }
 ],
 "metadata": {
  "kernelspec": {
   "display_name": "Python 3",
   "language": "python",
   "name": "python3"
  },
  "language_info": {
   "codemirror_mode": {
    "name": "ipython",
    "version": 3
   },
   "file_extension": ".py",
   "mimetype": "text/x-python",
   "name": "python",
   "nbconvert_exporter": "python",
   "pygments_lexer": "ipython3",
   "version": "3.13.7"
  }
 },
 "nbformat": 4,
 "nbformat_minor": 5
}
