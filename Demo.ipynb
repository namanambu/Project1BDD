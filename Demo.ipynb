{
 "cells": [
  {
   "cell_type": "markdown",
   "id": "1307ab64",
   "metadata": {},
   "source": [
    "# Coding A Rank Order Assignment Algorithm\n",
    "\n",
    "The goal of the project was to write a piece of software to matches N Doctors with K Hospitals with open residency positions. Each Doctor provides a ranked list of their preference for Hospitals, without Hospitals ranking the Doctors."
   ]
  },
  {
   "cell_type": "markdown",
   "id": "a70f4b09",
   "metadata": {},
   "source": [
    "### Section 1: Background\n",
    "Blabla Hungarian Algorithm.  PUT ACTUAL STUFF HERE once we finish README.md\n",
    "\n",
    "For a more in depth look at the Hungarian Algorithm, you can reference <a href=\"https://www.topcoder.com/thrive/articles/Assignment%20Problem%20and%20Hungarian%20Algorithm\" target=\"_parent\"> this article on topcoder.com."
   ]
  },
  {
   "cell_type": "markdown",
   "id": "973e888b",
   "metadata": {},
   "source": [
    "### Section 2: The Data\n",
    "\n",
    "We assume our data has been collected into a spreadsheet (a CSV file) and organized so that each doctor has their own row, which is itself populated with preference rankings [1, K] for each hospital in it's corresponding column.  \n",
    "\n",
    "We load this in as a **PANDAS** dataframe."
   ]
  },
  {
   "cell_type": "code",
   "execution_count": 1,
   "id": "e87f689f",
   "metadata": {},
   "outputs": [
    {
     "name": "stdout",
     "output_type": "stream",
     "text": [
      "  Hospital  H1\n",
      "0      Num   1\n",
      "1       D1   1\n",
      "2       D2   2\n",
      "3       D3   3\n"
     ]
    }
   ],
   "source": [
    "import HungarianAlgoImportData as HAID\n",
    "\n",
    "df = HAID.import_data('Test_VarB.csv')\n",
    "print(df)"
   ]
  },
  {
   "cell_type": "markdown",
   "id": "da20bc0e",
   "metadata": {},
   "source": [
    "From this dataframe, we extract the details provided for each hospital and strip the dataframe of its row and column labels to allow us to work with just the cost matrix. "
   ]
  },
  {
   "cell_type": "code",
   "execution_count": null,
   "id": "ec8a1cab",
   "metadata": {},
   "outputs": [
    {
     "name": "stdout",
     "output_type": "stream",
     "text": [
      "   H1  No Match\n",
      "1   1         0\n",
      "2   2         0\n",
      "3   3         0\n",
      "get_hospital_info returns the number of positions available per hospital\n",
      "\n",
      "    H1\n",
      "0   1\n",
      "\n",
      "And we use this information to fill out the matrix, which then gets padded to become square\n",
      "\n",
      "    H1  No Match\n",
      "1   1         0\n",
      "2   2         0\n",
      "3   3         0\n",
      "\n",
      "At the end of the importing process we are left with the 2D array:\n",
      "\n",
      " [[1 0]\n",
      " [2 0]\n",
      " [3 0]]\n"
     ]
    }
   ],
   "source": [
    "import numpy as np\n",
    "\n",
    "hi = HAID.get_hospital_info(df)\n",
    "\n",
    "prepped_df = HAID.prep_data(df)\n",
    "prepped_array = prepped_df.to_numpy(copy = True)\n",
    "\n",
    "print(f'get_hospital_info returns the number of positions available per hospital\\n\\n {hi}')\n",
    "print(f'\\nAnd we use this information to fill out the matrix, which then gets padded to become square\\n\\n {prepped_df}')\n",
    "print(f'\\nAt the end of the importing process we are left with the 2D array:\\n\\n {prepped_array}')"
   ]
  },
  {
   "cell_type": "markdown",
   "id": "1fe98913",
   "metadata": {},
   "source": [
    "### Section 3: Reduce the Matrix\n",
    "\n",
    "With our cost matrix created we then begin the steps of the Hungarian Algorithm.  \n",
    "\n",
    "As previously explained, the first step is to reduce the matrix by subtracting the minimum value of each row from each row and repeating that for each column. "
   ]
  },
  {
   "cell_type": "code",
   "execution_count": 3,
   "id": "2207df88",
   "metadata": {},
   "outputs": [
    {
     "name": "stdout",
     "output_type": "stream",
     "text": [
      "Our original cost matrix was:\n",
      " [[0 0 0 0]\n",
      " [1 0 1 0]\n",
      " [0 0 0 0]\n",
      " [1 1 0 0]]\n",
      "\n",
      " and following our row reduction we are given:\n",
      " [[0. 0. 0. 0.]\n",
      " [1. 0. 1. 0.]\n",
      " [0. 0. 0. 0.]\n",
      " [1. 1. 0. 0.]]\n",
      "\n",
      "After column reduction, we obtain our final reduced matrix:\n",
      " [[0. 0. 0. 0.]\n",
      " [1. 0. 1. 0.]\n",
      " [0. 0. 0. 0.]\n",
      " [1. 1. 0. 0.]]\n"
     ]
    }
   ],
   "source": [
    "import Hungarian_Alg_Steps as HAS\n",
    "\n",
    "row_reduced_matrix = HAS.step1_row_reduction(prepped_array)\n",
    "print(f'Our original cost matrix was:\\n {prepped_array}\\n\\n and following our row reduction we are given:\\n {row_reduced_matrix}')\n",
    "\n",
    "reduced_matrix = HAS.step2_col_reduction(row_reduced_matrix)\n",
    "print(f'\\nAfter column reduction, we obtain our final reduced matrix:\\n {reduced_matrix}')"
   ]
  },
  {
   "cell_type": "markdown",
   "id": "2f9a42fc",
   "metadata": {},
   "source": [
    "### Section 4: Crossing Out the Zeros\n",
    "\n",
    "With the matrix both row and column reduced, we proceed to the process of \"crossing out zeros\" with the minimal number of lines.\n",
    "\n",
    "Unfortunately, we are unaware of a python function that draws lines in a numpy array.  So, we turn to matrix manipulations.\n",
    "\n"
   ]
  },
  {
   "cell_type": "markdown",
   "id": "e3d66fe5",
   "metadata": {},
   "source": [
    "*To begin, we pass the numpy array through and convert it into a boolean array where values indicate whether the entry is 0 (True) or not (False).\n",
    "A copy of this array is passed to a helper that fills in a first set of zeros simply by picking the first occurence in each row.\n",
    "The coordinates that we get back are then separated by row into row and column.*"
   ]
  },
  {
   "cell_type": "markdown",
   "id": "99b0921f",
   "metadata": {},
   "source": [
    "*We then sift through the boolean matrix column by column in order to iteratively obtain the minimal horizontal and vertical \"lines\" needed.*\n"
   ]
  },
  {
   "cell_type": "code",
   "execution_count": 4,
   "id": "127e0dcb",
   "metadata": {},
   "outputs": [
    {
     "name": "stdout",
     "output_type": "stream",
     "text": [
      "This step returns the rows and columns that have lines crossing through them:\n",
      "Rows: [0 1 2 3]\n",
      "Columns: []\n",
      "Marked Zeros:\n",
      " [[1 1]\n",
      " [3 2]\n",
      " [0 0]\n",
      " [2 3]]\n",
      "\n",
      "And by finding the length of the line arrays and summing them, we can determine whether we move on to step 4 or 5\n",
      "Row lines(4) + Column lines(0) = 4.\n",
      "\n",
      "We're moving to Step 5!!\n"
     ]
    }
   ],
   "source": [
    "import Hungarian_Alg_LineCheck as HAL\n",
    "\n",
    "row_lines, col_lines, marked_zeros = HAL.Step_3_Line_Check(reduced_matrix)\n",
    "\n",
    "print(f'This step returns the rows and columns that have lines crossing through them:')\n",
    "print(f'Rows: {row_lines}')\n",
    "print(f'Columns: {col_lines}')\n",
    "print(f'Marked Zeros:\\n {marked_zeros}')\n",
    "print('\\nAnd by finding the length of the line arrays and summing them, we can determine whether we move on to step 4 or 5')\n",
    "print(f'Row lines({len(row_lines)}) + Column lines({len(col_lines)}) = {len(row_lines) + len(col_lines)}.')\n",
    "\n",
    "if len(row_lines) + len(col_lines) == len(reduced_matrix):\n",
    "    print(\"\\nWe're moving to Step 5!!\")\n",
    "    fork = 5\n",
    "else:\n",
    "    print(\"\\nWe have to do Step 4!\")\n",
    "    fork = 4"
   ]
  },
  {
   "cell_type": "markdown",
   "id": "b4a94fb6",
   "metadata": {},
   "source": [
    "### Section 5: Adjusting the Matrix\n",
    "\n",
    "If we fail to transform the matrix such that an optimal assignment can be obtained, we need to move to uncover new zeros.\n",
    "\n",
    "The process works by identifying uncovered cells (those not included in any row or column covered by a line) and modifying their values relative to the smallest uncovered entry. The goal is to create new zeros in the uncovered region and preserve the zeros we already have. Let’s go through this process step by step.\n",
    "\n",
    "We **first** determine entries that are *not* covered by any of the drawn lines.  Then we select the smallest of these values, called here m.\n",
    "\n",
    "\"m\" is then *subtracted from all uncovered entries* and *added to intersection entries* (intersection entries are entries at the intersection of a row and column line from Step 3).\n",
    "\n",
    "STEP4 then returns the updated cost matrix which gets passed back to STEP3 until we have N lines."
   ]
  },
  {
   "cell_type": "code",
   "execution_count": 5,
   "id": "d14d2b95",
   "metadata": {},
   "outputs": [],
   "source": [
    "if fork == 4:\n",
    "    while len(row_lines) + len(col_lines) != len(reduced_matrix):\n",
    "        reduced_matrix = HAS.step4_adjust_matrix(reduced_matrix, row_lines, col_lines)\n",
    "        row_lines, col_lines, marked_zeros = HAL.Step_3_Line_Check(reduced_matrix)"
   ]
  },
  {
   "cell_type": "markdown",
   "id": "0ce3ce9e",
   "metadata": {},
   "source": [
    "### Section 6: Finding the Optimal Assignments\n",
    "\n",
    "Once we have reduced the cost matrix and identified the zeros, the next step involves assigning rows to columns. This process, implemented in the function STEP5_find_solution, seeks to assign each row to a unique column while ensuring only 1:1 matching and, hopefully, efficiency.\n",
    "\n",
    "To ensure we get our optimal assignments efficiently, the function does 2 passes.  The first pass goes ahead with directly matching any doctor that only has 1 candidate for assignment (i.e. we fully process rows with only 0).\n",
    "\n",
    "The second (and beyond) passes take care of matching candidates with the next lowest number of options.  Repeating this until we have no more unmatched candidates (though if the matrix was padded, they may, in reality, be unmatched)."
   ]
  },
  {
   "cell_type": "code",
   "execution_count": 14,
   "id": "5eb12bad",
   "metadata": {},
   "outputs": [],
   "source": [
    "import pandas as pd\n",
    "\n",
    "def match_residents(assignments, raw_data):\n",
    "    # Get the number of actual doctors and hospital columns from the data\n",
    "    doctors = HAID.get_doctors(raw_data)\n",
    "    prepped_data = HAID.prep_data(raw_data)\n",
    "    num_doctors = len(doctors)  # Exclude filler\n",
    "\n",
    "    # Extract doctor and hospital names (note the hospital names will have position iteration)\n",
    "    doctor_names = doctors.values  # Actual doctor names from raw data\n",
    "    hospital_names = list(prepped_data.columns)  # Valid hospital columns only\n",
    "\n",
    "    # Filter assignments to only include rows corresponding to actual doctors\n",
    "    filtered_assignments = [pair for pair in assignments if pair[0] < num_doctors]\n",
    "\n",
    "    # Prepare matches list\n",
    "    matches = []\n",
    "    for row, col in filtered_assignments:\n",
    "        doctor = doctor_names[row]  # Map row index to actual doctor name\n",
    "        hospital = hospital_names[col]  # Map column index to hospital position name\n",
    "\n",
    "        # Append to matches list\n",
    "        matches.append({\"Doctor\": doctor, \"Hospital Position\": hospital})\n",
    "\n",
    "    # Convert matches to a DataFrame\n",
    "    matches_df = pd.DataFrame(matches)\n",
    "\n",
    "    return matches_df"
   ]
  },
  {
   "cell_type": "markdown",
   "id": "b9238ec6",
   "metadata": {},
   "source": [
    "This gives us our final result."
   ]
  },
  {
   "cell_type": "code",
   "execution_count": 13,
   "id": "2f71adaa",
   "metadata": {},
   "outputs": [],
   "source": [
    "def Match_Residents(assignments, prepped_data, num_doctors):\n",
    "\n",
    "    doctor_names = list(prepped_data.index[:num_doctors])  # First `num_doctors` rows, rest are extra\n",
    "    hospital_names = list(prepped_data.columns) \n",
    "\n",
    "    # Filter assignments to only include actual doctors (rows < num_doctors)\n",
    "    filtered_assignments = [pair for pair in assignments if pair[0] < num_doctors]\n",
    "\n",
    "    # Prepare list of matches\n",
    "    matches = []\n",
    "    for row, col in filtered_assignments:\n",
    "        doctor = doctor_names[row]  # Map row index to actual doctor name\n",
    "        hospital = hospital_names[col]  # Map column index to hospital position name\n",
    "\n",
    "        # Append to matches list\n",
    "        matches.append({\"Doctor\": doctor, \"Hospital Position\": hospital})\n",
    "\n",
    "    # Convert matches list to a DataFrame\n",
    "    matches_df = pd.DataFrame(matches)\n",
    "\n",
    "    return matches_df"
   ]
  },
  {
   "cell_type": "code",
   "execution_count": 16,
   "id": "e4c97938",
   "metadata": {},
   "outputs": [
    {
     "data": {
      "text/plain": [
       "np.int64(2)"
      ]
     },
     "execution_count": 16,
     "metadata": {},
     "output_type": "execute_result"
    }
   ],
   "source": [
    "import pandas as pd\n",
    "assignments = HAL.STEP5_find_solution(marked_zeros)\n",
    "num_to_match = len(HAID.get_doctors(df))\n",
    "matches_df = HAL.match_residents(assignments, df)\n",
    "matches_df = matches_df.sort_values(\"Doctor\")\n",
    "matches_numeric = Match_Residents(assignments, prepped_df, num_to_match)\n",
    "score, max_score = HAID.get_score(prepped_df, matches_numeric)\n",
    "matches_df\n",
    "score\n",
    "max_score"
   ]
  },
  {
   "cell_type": "markdown",
   "id": "b240d25d",
   "metadata": {},
   "source": [
    "### Section 1: Background on Hungarian Algorithm and Objective\n",
    "\n",
    "The assignment problem is a classical optimization problem where the goal is to select the maximum matching with the lowest possible cost. In mathematical terms, it boils down to finding a minimum-weight matching in a bipartite graph, where each agent–task pairing carries a weight that reflects how suitable that match is. To solve this type of problem efficiently, Harold Kuhn published the Hungarian algorithm in 1955.<sup>[1]</sup> The method works by transforming the cost matrix through row and column reductions and iteratively uncovering zeros until an optimal set of pairings is reached.<sup>[2]</sup> In our project, we used this approach by converting doctors’ ranked hospital preferences into a cost matrix and applying the algorithm to generate assignments that minimize overall dissatisfaction, bound by hospital capacity limits. **Are we defining the objective as minimize dissatisfaction or maximize satisfaction? - Jonathan**\n",
    "\n",
    "### Section 2: Model Assumptions\n",
    "- Each doctor provides a complete ranking of all hospitals with no ties or missing values\n",
    "- Hospitals do not rank doctors, only doctors rank hospitals\n",
    "- Each hospital has a capacity currently all set to 1 **remove this - Jonathan**\n",
    "- The total capacity may differ from the number of doctors (N is not always equal to K). Our implementation handles this by:\n",
    "  - Duplicating hospital columns to represent multiple slots\n",
    "  - Adding “no match” dummy columns/rows to make the cost matrix square\n",
    "- Doctors can be unmatched if no hospital slots remain\n",
    "- Ties between equally optimal assignments are broken arbitrarily, with priority given to unique solution choices\n",
    "- Objective considers rankings only and no other factors\n",
    "- Assumes reasonable penalty for “no match” so it is only chosen if necessary **explicitly define the value - Jonathan**\n",
    "- The difference between rank 1 and 2 is treated the same as between 2 and 3 **what? - Jonathan**\n",
    "- Hungarian algorithm always produces a solution\n",
    "- If multiple optimal solutions exist, the particular assignment chosen depends on how zeros are marked/traversed in the algorithm\n",
    "- Hungarian is fine for small or medium test cases but could become slow for very large datasets **quantitative size and duration - Jonathan**\n",
    "\n",
    "### Section 3: Design Decisions\n",
    "\n",
    "- We chose to represent the problem in a CSV file where each row corresponds to a doctor’s ranked preferences, columns correspond to hospitals, and the header row encodes hospital capacities. This made it easy to test with different datasets, using Pandas for preprocessing.\n",
    "- Hospitals with more than one slot are expanded into multiple columns, such as H1A and H1B, so that the problem becomes one-to-one and fits the Hungarian algorithm’s requirements<sup>[3]</sup>\n",
    "- Because the Hungarian algorithm requires a square cost matrix, we pad the smaller dimension with dummy rows/columns, when necessary. A special “no match” column is added to represent doctors who cannot be placed for cases where n is not equal to k\n",
    "- Doctors’ rankings are directly converted into costs (lower rank = lower cost). This makes the optimization objective “minimize cost” equivalent to “maximize doctor satisfaction.”\n",
    "- We modularized the algorithm into steps based on a youtube video explanation of the algorithm which made the logic easier to debug and explain<sup>[4]</sup>:\n",
    "     - Step 1: Row reduction\n",
    "     - Step 2: Column reduction\n",
    "     - Step 3: Identify zeros and cover them with minimal lines\n",
    "     - Step 4: Adjust the matrix when coverage is insufficient\n",
    "     - Step 5: Extract optimal assignments from zero positions\n",
    "- We wrote helper functions to map matrix indices back to actual doctor and hospital names, and return results as a clean pandas data frame\n",
    "- To evaluate results, we defined a scoring function that sums the rank costs of assigned matches and compares this to a maximum possible dissatisfaction score. This gave us a percentage measure of solution quality\n",
    "- By separating data import, preprocessing, algorithm steps, and output formatting into different modules, we kept the code design flexible and easy to maintain\n",
    "\n",
    "### Section 4: Labour Division\n",
    "\n",
    "- Sakshi worked on implementing Step 1 (row reduction), Step 2 (column reduction), and Step 4 (matrix adjustment) functions of the Hungarian algorithm. She also prepared this project write-up and developed testing functions to check that the code was running correctly\n",
    "\n",
    "- Jonathan focused on Step 3 of the Hungarian algorithm, which involved crossing out zeros and determining the minimum number of lines needed to cover them. He also put together the main demo script that showcased the full workflow of the algorithm on sample data. Additionally, he contributed to the implementation of Step 5 of the Hungarian Algorithm. \n",
    "\n",
    "- Nnemdi handled the initial data import and preprocessing, including setting up hospital capacities and padding the matrix so it could be used by the algorithm. In addition, she implemented Step 5 of the Hungarian algorithm, which determines the final assignments of doctors to hospitals from the reduced cost matrix\n",
    "\n",
    "### Section 5: Organization of this Repository\n",
    "Our code is split into several files to maintain an orderly, modular structure:\n",
    "- Main.py: runs the full pipeline, tying everything together and printing the final matches and satisfaction score %\n",
    "- Demo.ipynb: a notebook we used to show step-by-step outputs and explain the algorithm\n",
    "- HungarianAlgoImportData.py: handles data loading, hospital capacities, prepping the matrix and scoring results\n",
    "- Hungarian_Alg_Steps.py: contains the core steps of the Hungarian algorithm (row reduction, column reduction, and matrix adjustment)\n",
    "- Hungarian_Alg_LineCheck.py: handles crossing out zeros (Step 3), the final assignment step (Step 5), and mapping results back to doctor and hospital names\n",
    "- README.md: Contains this specific project write up and description\n",
    "- CSV files: different test datasets we used to check the algorithm's implementation\n",
    "\n",
    "### References (cited):\n",
    "\n",
    "[1]The Hungarian Algorithm for the Assignment Problem. The Department of Computer Science. Accessed September 13, 2025. http://www.cs.emory.edu/~cheung/Courses/253/Syllabus/Assignment/algorithm.html.  \n",
    "\n",
    "[2]Efimov V. The Hungarian algorithm and its applications in computer vision. Towards Data Science. September 9, 2025. Accessed September 13, 2025. https://towardsdatascience.com/hungarian-algorithm-and-its-applications-in-computer-vision/.  \n",
    "\n",
    "[3]Hungarian algorithm for solving the assignment problem. Hungarian Algorithm - Algorithms for Competitive Programming. December 13, 2023. Accessed September 13, 2025. https://cp-algorithms.com/graph/hungarian-algorithm.html.  \n",
    "\n",
    "[4]The Munkres Assignment Algorithm (Hungarian Algorithm). YouTube. Accessed September 13, 2025. https://www.youtube.com/watch?v=cQ5MsiGaDY8&t=290s&pp=ygUdaHVuZ2FyaWFuIGFsZ29yaXRobSBleHBsYWluZWQ%3D. \n"
   ]
  }
 ],
 "metadata": {
  "kernelspec": {
   "display_name": "Python 3",
   "language": "python",
   "name": "python3"
  },
  "language_info": {
   "codemirror_mode": {
    "name": "ipython",
    "version": 3
   },
   "file_extension": ".py",
   "mimetype": "text/x-python",
   "name": "python",
   "nbconvert_exporter": "python",
   "pygments_lexer": "ipython3",
   "version": "3.13.7"
  }
 },
 "nbformat": 4,
 "nbformat_minor": 5
}
