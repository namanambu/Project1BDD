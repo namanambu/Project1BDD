{
 "cells": [
  {
   "cell_type": "markdown",
   "id": "1307ab64",
   "metadata": {},
   "source": [
    "# Coding A Rank Order Assignment Algorithm\n",
    "\n",
    "The goal of the project was to write a piece of software to matches N Doctors with K Hospitals with open residency positions. Each Doctor provides a ranked list of their preference for Hospitals, without Hospitals ranking the Doctors."
   ]
  },
  {
   "cell_type": "markdown",
   "id": "a70f4b09",
   "metadata": {},
   "source": [
    "### Section 1: Background\n",
    "Blabla Hungarian Algorithm.  PUT ACTUAL STUFF HERE once we finish README.md\n",
    "\n",
    "For a more in depth look at the Hungarian Algorithm, you can reference <a href=\"https://www.topcoder.com/thrive/articles/Assignment%20Problem%20and%20Hungarian%20Algorithm\" target=\"_parent\"> this article on topcoder.com."
   ]
  },
  {
   "cell_type": "markdown",
   "id": "973e888b",
   "metadata": {},
   "source": [
    "### Section 2: The Data\n",
    "\n",
    "We assume our data has been collected into a spreadsheet (a CSV file) and organized so that each doctor has their own row, which is itself populated with preference rankings [1, K] for each hospital in it's corresponding column.  \n",
    "\n",
    "We load this in as a **PANDAS** dataframe."
   ]
  },
  {
   "cell_type": "code",
   "execution_count": 1,
   "id": "e87f689f",
   "metadata": {},
   "outputs": [
    {
     "name": "stdout",
     "output_type": "stream",
     "text": [
      "  Hospital  H1  H2  H3\n",
      "0      Num   2   2   1\n",
      "1       D1   1   2   3\n",
      "2       D2   2   1   3\n",
      "3       D3   3   2   1\n",
      "4       D4   1   3   2\n"
     ]
    }
   ],
   "source": [
    "import HungarianAlgoImportData as HAID\n",
    "\n",
    "df = HAID.import_data('BDD Test.csv')\n",
    "print(df)"
   ]
  },
  {
   "cell_type": "markdown",
   "id": "da20bc0e",
   "metadata": {},
   "source": [
    "From this dataframe, we extract the details provided for each hospital and strip the dataframe of its row and column labels to allow us to work with just the cost matrix. "
   ]
  },
  {
   "cell_type": "code",
   "execution_count": 2,
   "id": "ec8a1cab",
   "metadata": {},
   "outputs": [
    {
     "name": "stdout",
     "output_type": "stream",
     "text": [
      "get_hospital_info returns the number of positions available per hospital\n",
      "   Hospital  H1  H2  H3\n",
      "0      Num   2   2   1\n",
      "At the end of the importing process we are left with the 2D array:\n",
      " [[1 2 3 1]\n",
      " [2 1 3 2]\n",
      " [3 2 1 3]\n",
      " [1 3 2 1]]\n"
     ]
    }
   ],
   "source": [
    "hi = HAID.get_hospital_info(df)\n",
    "\n",
    "prepped_df = HAID.prep_data(df)\n",
    "prepped_array = prepped_df.to_numpy(copy = True)\n",
    "\n",
    "print(f'get_hospital_info returns the number of positions available per hospital\\n {hi}')\n",
    "print(f'At the end of the importing process we are left with the 2D array:\\n {prepped_array}')"
   ]
  },
  {
   "cell_type": "markdown",
   "id": "1fe98913",
   "metadata": {},
   "source": [
    "### Section 3: Reduce the Matrix\n",
    "\n",
    "With our cost matrix created we then begin the steps of the Hungarian Algorithm.  \n",
    "\n",
    "As previously explained, the first step is to reduce the matrix by subtracting te minimum value of each row from each row and repeating that for each column. "
   ]
  },
  {
   "cell_type": "code",
   "execution_count": 3,
   "id": "2207df88",
   "metadata": {},
   "outputs": [
    {
     "name": "stdout",
     "output_type": "stream",
     "text": [
      "Our original cost matrix was:\n",
      " [[1 2 3 1]\n",
      " [2 1 3 2]\n",
      " [3 2 1 3]\n",
      " [1 3 2 1]]\n",
      "\n",
      " and following our row reduction we are given:\n",
      " [[0. 1. 2. 0.]\n",
      " [1. 0. 2. 1.]\n",
      " [2. 1. 0. 2.]\n",
      " [0. 2. 1. 0.]]\n",
      "\n",
      "After column reduction, we obtain our final reduced matrix:\n",
      " [[0. 1. 2. 0.]\n",
      " [1. 0. 2. 1.]\n",
      " [2. 1. 0. 2.]\n",
      " [0. 2. 1. 0.]]\n"
     ]
    }
   ],
   "source": [
    "import Hungarian_Alg_Steps as HAS\n",
    "\n",
    "row_reduced_matrix = HAS.step1_row_reduction(prepped_array)\n",
    "print(f'Our original cost matrix was:\\n {prepped_array}\\n\\n and following our row reduction we are given:\\n {row_reduced_matrix}')\n",
    "\n",
    "reduced_matrix = HAS.step2_col_reduction(row_reduced_matrix)\n",
    "print(f'\\nAfter column reduction, we obtain our final reduced matrix:\\n {reduced_matrix}')"
   ]
  },
  {
   "cell_type": "markdown",
   "id": "2f9a42fc",
   "metadata": {},
   "source": [
    "### Section 4: Crossing Out the Zeros\n",
    "\n",
    "With the matrix both row and column reduced, we proceed to the process of \"crossing out zeros\" with the minimal number of lines.\n",
    "\n",
    "Unfortunately, we are unaware of a python function that draws lines in a numpy array.  So, we turn to matrix manipulations.\n",
    "\n"
   ]
  },
  {
   "cell_type": "markdown",
   "id": "e3d66fe5",
   "metadata": {},
   "source": [
    "*To begin, we pass the numpy array through and convert it into a boolean array where values indicate whether the entry is 0 (True) or not (False).\n",
    "A copy of this array is passed to a helper that fills in a first set of zeros simply by picking the first occurence in each row.\n",
    "The coordinates that we get back are then separated by row into row and column.*\n",
    "\n",
    "\n",
    "CODE:\n",
    "\n",
    "    def Step_3_Line_Check(mat):\n",
    "\n",
    "        # Matrix --> Boolean Matrix (0 True, else False)\n",
    "        current_mat = mat\n",
    "        zero_bool_mat = (current_mat == 0)\n",
    "        zero_bool_mat_copy = zero_bool_mat.copy()\n",
    "\n",
    "        # Find the indices of zeros in the matrix (only the first in each row)\n",
    "        marked_zero = []\n",
    "        while (True in zero_bool_mat_copy):\n",
    "            min_zero_row(zero_bool_mat_copy, marked_zero)\n",
    "\n",
    "        # Separate row and col indices for later use\n",
    "        marked_zero_row = []\n",
    "        marked_zero_col = []\n",
    "        for i in range(len(marked_zero)):\n",
    "            marked_zero_row.append(marked_zero[i][0])\n",
    "            marked_zero_col.append(marked_zero[i][1])\n",
    "\n",
    "        # Collect number of rows with 0s\n",
    "        non_marked_row = list(set(range(current_mat.shape[0])) - set(marked_zero_row))"
   ]
  },
  {
   "cell_type": "markdown",
   "id": "99b0921f",
   "metadata": {},
   "source": [
    "*We then sift through the boolean matrix column by column in order to iteratively obtain the minimal horizontal and vertical \"lines\" needed.*\n",
    "\n",
    "CODE:\n",
    "    marked_cols = []\n",
    "        change_made = True\n",
    "        while change_made: # If we hit a run that changes nothing --> STOP\n",
    "            change_made = False\n",
    "            for curr_row in range(len(non_marked_row)):\n",
    "                row_array = zero_bool_mat[non_marked_row[curr_row], :]\n",
    "                for curr_col in range(row_array.shape[0]):\n",
    "                    # In each row, we check each bool_val for unmrked zeros (Trues)\n",
    "                    if row_array[curr_col] == True and curr_col not in marked_cols:\n",
    "                        # If we missed smth, we add to our marked cols and keep going\n",
    "                        marked_cols.append(curr_col)\n",
    "                        change_made = True\n",
    "\n",
    "            for row_num, col_num in marked_zero:\n",
    "                # Update the set of non-marked rows for reduction to minimal set\n",
    "                if row_num not in non_marked_row and col_num in marked_cols:\n",
    "                    non_marked_row.append(row_num)\n",
    "                    change_made = True\n",
    "        # Reduce set of rows down based on non-marked rows\n",
    "        marked_rows = list(set(range(mat.shape[0])) - set(non_marked_row))\n",
    "        \n",
    "        return np.array(marked_rows), np.array(marked_cols), np.array(marked_zero)"
   ]
  },
  {
   "cell_type": "code",
   "execution_count": 11,
   "id": "127e0dcb",
   "metadata": {},
   "outputs": [
    {
     "name": "stdout",
     "output_type": "stream",
     "text": [
      "This step returns the rows and columns that have lines crossing through them:\n",
      "[0 1 2 3]\n",
      "[]\n",
      "[[1 1]\n",
      " [2 2]\n",
      " [0 0]\n",
      " [3 3]]\n",
      "\n",
      "And by finding the length of the line arrays and summing them, we can determine whether we move on to step 4 or 5\n",
      "Row lines(4) + Column lines(0) = 4.\n",
      "\n",
      "We're moving to Step 5!!\n"
     ]
    }
   ],
   "source": [
    "import Hungarian_Alg_LineCheck as HAL\n",
    "\n",
    "row_lines, col_lines, marked_zeros = HAL.Step_3_Line_Check(reduced_matrix)\n",
    "\n",
    "print(f'This step returns the rows and columns that have lines crossing through them:')\n",
    "print(row_lines)\n",
    "print(col_lines)\n",
    "print(marked_zeros)\n",
    "print('\\nAnd by finding the length of the line arrays and summing them, we can determine whether we move on to step 4 or 5')\n",
    "print(f'Row lines({len(row_lines)}) + Column lines({len(col_lines)}) = {len(row_lines) + len(col_lines)}.')\n",
    "\n",
    "if len(row_lines) + len(col_lines) == len(reduced_matrix):\n",
    "    print(\"\\nWe're moving to Step 5!!\")\n",
    "else:\n",
    "    print(\"\\nWe have to do Step 4!\")"
   ]
  }
 ],
 "metadata": {
  "kernelspec": {
   "display_name": ".conda",
   "language": "python",
   "name": "python3"
  },
  "language_info": {
   "codemirror_mode": {
    "name": "ipython",
    "version": 3
   },
   "file_extension": ".py",
   "mimetype": "text/x-python",
   "name": "python",
   "nbconvert_exporter": "python",
   "pygments_lexer": "ipython3",
   "version": "3.10.4"
  }
 },
 "nbformat": 4,
 "nbformat_minor": 5
}
